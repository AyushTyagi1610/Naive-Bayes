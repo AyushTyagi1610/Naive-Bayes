{
  "cells": [
    {
      "cell_type": "markdown",
      "metadata": {
        "id": "view-in-github",
        "colab_type": "text"
      },
      "source": [
        "<a href=\"https://colab.research.google.com/github/AyushTyagi1610/Naive-Bayes/blob/main/text_classification.ipynb\" target=\"_parent\"><img src=\"https://colab.research.google.com/assets/colab-badge.svg\" alt=\"Open In Colab\"/></a>"
      ]
    },
    {
      "cell_type": "code",
      "execution_count": 71,
      "id": "b54e9377",
      "metadata": {
        "execution": {
          "iopub.execute_input": "2021-11-29T07:49:38.963687Z",
          "iopub.status.busy": "2021-11-29T07:49:38.960159Z",
          "iopub.status.idle": "2021-11-29T07:49:41.131600Z",
          "shell.execute_reply": "2021-11-29T07:49:41.132185Z",
          "shell.execute_reply.started": "2021-11-29T07:36:41.090948Z"
        },
        "papermill": {
          "duration": 2.210999,
          "end_time": "2021-11-29T07:49:41.132501",
          "exception": false,
          "start_time": "2021-11-29T07:49:38.921502",
          "status": "completed"
        },
        "tags": [],
        "id": "b54e9377"
      },
      "outputs": [],
      "source": [
        "from itertools import chain\n",
        "\n",
        "import matplotlib.pyplot as plt\n",
        "\n",
        "import nltk\n",
        "nltk.download('stopwords', quiet=True)\n",
        "# nltk.download('punkt', quiet=True)\n",
        "from nltk.corpus import stopwords\n",
        "from nltk.tokenize import word_tokenize\n",
        "\n",
        "import numpy as np\n",
        "import pandas as pd\n",
        "\n",
        "import seaborn as sns\n",
        "\n",
        "from sklearn import feature_extraction\n",
        "from sklearn.metrics import confusion_matrix\n",
        "from sklearn import model_selection as ms\n",
        "from sklearn import naive_bayes\n",
        "from sklearn import preprocessing\n",
        "from sklearn.metrics import confusion_matrix\n",
        "\n",
        "import string"
      ]
    },
    {
      "cell_type": "markdown",
      "id": "78a3ed77",
      "metadata": {
        "papermill": {
          "duration": 0.030766,
          "end_time": "2021-11-29T07:49:41.194876",
          "exception": false,
          "start_time": "2021-11-29T07:49:41.164110",
          "status": "completed"
        },
        "tags": [],
        "id": "78a3ed77"
      },
      "source": [
        "Loading the dataset"
      ]
    },
    {
      "cell_type": "code",
      "source": [
        "from google.colab import files\n",
        "uploaded = files.upload()"
      ],
      "metadata": {
        "colab": {
          "base_uri": "https://localhost:8080/",
          "height": 74
        },
        "id": "fRyTvAHZJ8Sj",
        "outputId": "ca29feb0-2782-4d91-d8d9-485390e06b38"
      },
      "id": "fRyTvAHZJ8Sj",
      "execution_count": 72,
      "outputs": [
        {
          "output_type": "display_data",
          "data": {
            "text/plain": [
              "<IPython.core.display.HTML object>"
            ],
            "text/html": [
              "\n",
              "     <input type=\"file\" id=\"files-798d4cf3-3410-41e0-beb5-1f5668920b11\" name=\"files[]\" multiple disabled\n",
              "        style=\"border:none\" />\n",
              "     <output id=\"result-798d4cf3-3410-41e0-beb5-1f5668920b11\">\n",
              "      Upload widget is only available when the cell has been executed in the\n",
              "      current browser session. Please rerun this cell to enable.\n",
              "      </output>\n",
              "      <script>// Copyright 2017 Google LLC\n",
              "//\n",
              "// Licensed under the Apache License, Version 2.0 (the \"License\");\n",
              "// you may not use this file except in compliance with the License.\n",
              "// You may obtain a copy of the License at\n",
              "//\n",
              "//      http://www.apache.org/licenses/LICENSE-2.0\n",
              "//\n",
              "// Unless required by applicable law or agreed to in writing, software\n",
              "// distributed under the License is distributed on an \"AS IS\" BASIS,\n",
              "// WITHOUT WARRANTIES OR CONDITIONS OF ANY KIND, either express or implied.\n",
              "// See the License for the specific language governing permissions and\n",
              "// limitations under the License.\n",
              "\n",
              "/**\n",
              " * @fileoverview Helpers for google.colab Python module.\n",
              " */\n",
              "(function(scope) {\n",
              "function span(text, styleAttributes = {}) {\n",
              "  const element = document.createElement('span');\n",
              "  element.textContent = text;\n",
              "  for (const key of Object.keys(styleAttributes)) {\n",
              "    element.style[key] = styleAttributes[key];\n",
              "  }\n",
              "  return element;\n",
              "}\n",
              "\n",
              "// Max number of bytes which will be uploaded at a time.\n",
              "const MAX_PAYLOAD_SIZE = 100 * 1024;\n",
              "\n",
              "function _uploadFiles(inputId, outputId) {\n",
              "  const steps = uploadFilesStep(inputId, outputId);\n",
              "  const outputElement = document.getElementById(outputId);\n",
              "  // Cache steps on the outputElement to make it available for the next call\n",
              "  // to uploadFilesContinue from Python.\n",
              "  outputElement.steps = steps;\n",
              "\n",
              "  return _uploadFilesContinue(outputId);\n",
              "}\n",
              "\n",
              "// This is roughly an async generator (not supported in the browser yet),\n",
              "// where there are multiple asynchronous steps and the Python side is going\n",
              "// to poll for completion of each step.\n",
              "// This uses a Promise to block the python side on completion of each step,\n",
              "// then passes the result of the previous step as the input to the next step.\n",
              "function _uploadFilesContinue(outputId) {\n",
              "  const outputElement = document.getElementById(outputId);\n",
              "  const steps = outputElement.steps;\n",
              "\n",
              "  const next = steps.next(outputElement.lastPromiseValue);\n",
              "  return Promise.resolve(next.value.promise).then((value) => {\n",
              "    // Cache the last promise value to make it available to the next\n",
              "    // step of the generator.\n",
              "    outputElement.lastPromiseValue = value;\n",
              "    return next.value.response;\n",
              "  });\n",
              "}\n",
              "\n",
              "/**\n",
              " * Generator function which is called between each async step of the upload\n",
              " * process.\n",
              " * @param {string} inputId Element ID of the input file picker element.\n",
              " * @param {string} outputId Element ID of the output display.\n",
              " * @return {!Iterable<!Object>} Iterable of next steps.\n",
              " */\n",
              "function* uploadFilesStep(inputId, outputId) {\n",
              "  const inputElement = document.getElementById(inputId);\n",
              "  inputElement.disabled = false;\n",
              "\n",
              "  const outputElement = document.getElementById(outputId);\n",
              "  outputElement.innerHTML = '';\n",
              "\n",
              "  const pickedPromise = new Promise((resolve) => {\n",
              "    inputElement.addEventListener('change', (e) => {\n",
              "      resolve(e.target.files);\n",
              "    });\n",
              "  });\n",
              "\n",
              "  const cancel = document.createElement('button');\n",
              "  inputElement.parentElement.appendChild(cancel);\n",
              "  cancel.textContent = 'Cancel upload';\n",
              "  const cancelPromise = new Promise((resolve) => {\n",
              "    cancel.onclick = () => {\n",
              "      resolve(null);\n",
              "    };\n",
              "  });\n",
              "\n",
              "  // Wait for the user to pick the files.\n",
              "  const files = yield {\n",
              "    promise: Promise.race([pickedPromise, cancelPromise]),\n",
              "    response: {\n",
              "      action: 'starting',\n",
              "    }\n",
              "  };\n",
              "\n",
              "  cancel.remove();\n",
              "\n",
              "  // Disable the input element since further picks are not allowed.\n",
              "  inputElement.disabled = true;\n",
              "\n",
              "  if (!files) {\n",
              "    return {\n",
              "      response: {\n",
              "        action: 'complete',\n",
              "      }\n",
              "    };\n",
              "  }\n",
              "\n",
              "  for (const file of files) {\n",
              "    const li = document.createElement('li');\n",
              "    li.append(span(file.name, {fontWeight: 'bold'}));\n",
              "    li.append(span(\n",
              "        `(${file.type || 'n/a'}) - ${file.size} bytes, ` +\n",
              "        `last modified: ${\n",
              "            file.lastModifiedDate ? file.lastModifiedDate.toLocaleDateString() :\n",
              "                                    'n/a'} - `));\n",
              "    const percent = span('0% done');\n",
              "    li.appendChild(percent);\n",
              "\n",
              "    outputElement.appendChild(li);\n",
              "\n",
              "    const fileDataPromise = new Promise((resolve) => {\n",
              "      const reader = new FileReader();\n",
              "      reader.onload = (e) => {\n",
              "        resolve(e.target.result);\n",
              "      };\n",
              "      reader.readAsArrayBuffer(file);\n",
              "    });\n",
              "    // Wait for the data to be ready.\n",
              "    let fileData = yield {\n",
              "      promise: fileDataPromise,\n",
              "      response: {\n",
              "        action: 'continue',\n",
              "      }\n",
              "    };\n",
              "\n",
              "    // Use a chunked sending to avoid message size limits. See b/62115660.\n",
              "    let position = 0;\n",
              "    do {\n",
              "      const length = Math.min(fileData.byteLength - position, MAX_PAYLOAD_SIZE);\n",
              "      const chunk = new Uint8Array(fileData, position, length);\n",
              "      position += length;\n",
              "\n",
              "      const base64 = btoa(String.fromCharCode.apply(null, chunk));\n",
              "      yield {\n",
              "        response: {\n",
              "          action: 'append',\n",
              "          file: file.name,\n",
              "          data: base64,\n",
              "        },\n",
              "      };\n",
              "\n",
              "      let percentDone = fileData.byteLength === 0 ?\n",
              "          100 :\n",
              "          Math.round((position / fileData.byteLength) * 100);\n",
              "      percent.textContent = `${percentDone}% done`;\n",
              "\n",
              "    } while (position < fileData.byteLength);\n",
              "  }\n",
              "\n",
              "  // All done.\n",
              "  yield {\n",
              "    response: {\n",
              "      action: 'complete',\n",
              "    }\n",
              "  };\n",
              "}\n",
              "\n",
              "scope.google = scope.google || {};\n",
              "scope.google.colab = scope.google.colab || {};\n",
              "scope.google.colab._files = {\n",
              "  _uploadFiles,\n",
              "  _uploadFilesContinue,\n",
              "};\n",
              "})(self);\n",
              "</script> "
            ]
          },
          "metadata": {}
        },
        {
          "output_type": "stream",
          "name": "stdout",
          "text": [
            "Saving website_classification.csv to website_classification (3).csv\n"
          ]
        }
      ]
    },
    {
      "cell_type": "code",
      "source": [
        "import io\n",
        "text_df = pd.read_csv(io.BytesIO(uploaded['website_classification.csv']))"
      ],
      "metadata": {
        "id": "suJUeutJKDQL"
      },
      "id": "suJUeutJKDQL",
      "execution_count": 73,
      "outputs": []
    },
    {
      "cell_type": "code",
      "execution_count": 74,
      "id": "fc8b1ef3",
      "metadata": {
        "execution": {
          "iopub.execute_input": "2021-11-29T07:49:41.258236Z",
          "iopub.status.busy": "2021-11-29T07:49:41.257500Z",
          "iopub.status.idle": "2021-11-29T07:49:41.508358Z",
          "shell.execute_reply": "2021-11-29T07:49:41.507786Z",
          "shell.execute_reply.started": "2021-11-29T07:36:43.302227Z"
        },
        "papermill": {
          "duration": 0.282907,
          "end_time": "2021-11-29T07:49:41.508500",
          "exception": false,
          "start_time": "2021-11-29T07:49:41.225593",
          "status": "completed"
        },
        "tags": [],
        "colab": {
          "base_uri": "https://localhost:8080/",
          "height": 206
        },
        "id": "fc8b1ef3",
        "outputId": "5224b420-23a4-449e-8664-5fa8e0191f99"
      },
      "outputs": [
        {
          "output_type": "execute_result",
          "data": {
            "text/plain": [
              "   Unnamed: 0                                        website_url  \\\n",
              "0           0     https://www.booking.com/index.html?aid=1743217   \n",
              "1           1                   https://travelsites.com/expedia/   \n",
              "2           2               https://travelsites.com/tripadvisor/   \n",
              "3           3              https://www.momondo.in/?ispredir=true   \n",
              "4           4  https://www.ebookers.com/?AFFCID=EBOOKERS-UK.n...   \n",
              "\n",
              "                                cleaned_website_text Category  \n",
              "0  official site good hotel accommodation big sav...   Travel  \n",
              "1  expedia hotel book sites like use vacation wor...   Travel  \n",
              "2  tripadvisor hotel book sites like previously d...   Travel  \n",
              "3  cheap flights search compare flights momondo f...   Travel  \n",
              "4  bot create free account create free account si...   Travel  "
            ],
            "text/html": [
              "\n",
              "  <div id=\"df-2fc2423c-c7e7-471c-ba0d-f8c2400c9d6b\">\n",
              "    <div class=\"colab-df-container\">\n",
              "      <div>\n",
              "<style scoped>\n",
              "    .dataframe tbody tr th:only-of-type {\n",
              "        vertical-align: middle;\n",
              "    }\n",
              "\n",
              "    .dataframe tbody tr th {\n",
              "        vertical-align: top;\n",
              "    }\n",
              "\n",
              "    .dataframe thead th {\n",
              "        text-align: right;\n",
              "    }\n",
              "</style>\n",
              "<table border=\"1\" class=\"dataframe\">\n",
              "  <thead>\n",
              "    <tr style=\"text-align: right;\">\n",
              "      <th></th>\n",
              "      <th>Unnamed: 0</th>\n",
              "      <th>website_url</th>\n",
              "      <th>cleaned_website_text</th>\n",
              "      <th>Category</th>\n",
              "    </tr>\n",
              "  </thead>\n",
              "  <tbody>\n",
              "    <tr>\n",
              "      <th>0</th>\n",
              "      <td>0</td>\n",
              "      <td>https://www.booking.com/index.html?aid=1743217</td>\n",
              "      <td>official site good hotel accommodation big sav...</td>\n",
              "      <td>Travel</td>\n",
              "    </tr>\n",
              "    <tr>\n",
              "      <th>1</th>\n",
              "      <td>1</td>\n",
              "      <td>https://travelsites.com/expedia/</td>\n",
              "      <td>expedia hotel book sites like use vacation wor...</td>\n",
              "      <td>Travel</td>\n",
              "    </tr>\n",
              "    <tr>\n",
              "      <th>2</th>\n",
              "      <td>2</td>\n",
              "      <td>https://travelsites.com/tripadvisor/</td>\n",
              "      <td>tripadvisor hotel book sites like previously d...</td>\n",
              "      <td>Travel</td>\n",
              "    </tr>\n",
              "    <tr>\n",
              "      <th>3</th>\n",
              "      <td>3</td>\n",
              "      <td>https://www.momondo.in/?ispredir=true</td>\n",
              "      <td>cheap flights search compare flights momondo f...</td>\n",
              "      <td>Travel</td>\n",
              "    </tr>\n",
              "    <tr>\n",
              "      <th>4</th>\n",
              "      <td>4</td>\n",
              "      <td>https://www.ebookers.com/?AFFCID=EBOOKERS-UK.n...</td>\n",
              "      <td>bot create free account create free account si...</td>\n",
              "      <td>Travel</td>\n",
              "    </tr>\n",
              "  </tbody>\n",
              "</table>\n",
              "</div>\n",
              "      <button class=\"colab-df-convert\" onclick=\"convertToInteractive('df-2fc2423c-c7e7-471c-ba0d-f8c2400c9d6b')\"\n",
              "              title=\"Convert this dataframe to an interactive table.\"\n",
              "              style=\"display:none;\">\n",
              "        \n",
              "  <svg xmlns=\"http://www.w3.org/2000/svg\" height=\"24px\"viewBox=\"0 0 24 24\"\n",
              "       width=\"24px\">\n",
              "    <path d=\"M0 0h24v24H0V0z\" fill=\"none\"/>\n",
              "    <path d=\"M18.56 5.44l.94 2.06.94-2.06 2.06-.94-2.06-.94-.94-2.06-.94 2.06-2.06.94zm-11 1L8.5 8.5l.94-2.06 2.06-.94-2.06-.94L8.5 2.5l-.94 2.06-2.06.94zm10 10l.94 2.06.94-2.06 2.06-.94-2.06-.94-.94-2.06-.94 2.06-2.06.94z\"/><path d=\"M17.41 7.96l-1.37-1.37c-.4-.4-.92-.59-1.43-.59-.52 0-1.04.2-1.43.59L10.3 9.45l-7.72 7.72c-.78.78-.78 2.05 0 2.83L4 21.41c.39.39.9.59 1.41.59.51 0 1.02-.2 1.41-.59l7.78-7.78 2.81-2.81c.8-.78.8-2.07 0-2.86zM5.41 20L4 18.59l7.72-7.72 1.47 1.35L5.41 20z\"/>\n",
              "  </svg>\n",
              "      </button>\n",
              "      \n",
              "  <style>\n",
              "    .colab-df-container {\n",
              "      display:flex;\n",
              "      flex-wrap:wrap;\n",
              "      gap: 12px;\n",
              "    }\n",
              "\n",
              "    .colab-df-convert {\n",
              "      background-color: #E8F0FE;\n",
              "      border: none;\n",
              "      border-radius: 50%;\n",
              "      cursor: pointer;\n",
              "      display: none;\n",
              "      fill: #1967D2;\n",
              "      height: 32px;\n",
              "      padding: 0 0 0 0;\n",
              "      width: 32px;\n",
              "    }\n",
              "\n",
              "    .colab-df-convert:hover {\n",
              "      background-color: #E2EBFA;\n",
              "      box-shadow: 0px 1px 2px rgba(60, 64, 67, 0.3), 0px 1px 3px 1px rgba(60, 64, 67, 0.15);\n",
              "      fill: #174EA6;\n",
              "    }\n",
              "\n",
              "    [theme=dark] .colab-df-convert {\n",
              "      background-color: #3B4455;\n",
              "      fill: #D2E3FC;\n",
              "    }\n",
              "\n",
              "    [theme=dark] .colab-df-convert:hover {\n",
              "      background-color: #434B5C;\n",
              "      box-shadow: 0px 1px 3px 1px rgba(0, 0, 0, 0.15);\n",
              "      filter: drop-shadow(0px 1px 2px rgba(0, 0, 0, 0.3));\n",
              "      fill: #FFFFFF;\n",
              "    }\n",
              "  </style>\n",
              "\n",
              "      <script>\n",
              "        const buttonEl =\n",
              "          document.querySelector('#df-2fc2423c-c7e7-471c-ba0d-f8c2400c9d6b button.colab-df-convert');\n",
              "        buttonEl.style.display =\n",
              "          google.colab.kernel.accessAllowed ? 'block' : 'none';\n",
              "\n",
              "        async function convertToInteractive(key) {\n",
              "          const element = document.querySelector('#df-2fc2423c-c7e7-471c-ba0d-f8c2400c9d6b');\n",
              "          const dataTable =\n",
              "            await google.colab.kernel.invokeFunction('convertToInteractive',\n",
              "                                                     [key], {});\n",
              "          if (!dataTable) return;\n",
              "\n",
              "          const docLinkHtml = 'Like what you see? Visit the ' +\n",
              "            '<a target=\"_blank\" href=https://colab.research.google.com/notebooks/data_table.ipynb>data table notebook</a>'\n",
              "            + ' to learn more about interactive tables.';\n",
              "          element.innerHTML = '';\n",
              "          dataTable['output_type'] = 'display_data';\n",
              "          await google.colab.output.renderOutput(dataTable, element);\n",
              "          const docLink = document.createElement('div');\n",
              "          docLink.innerHTML = docLinkHtml;\n",
              "          element.appendChild(docLink);\n",
              "        }\n",
              "      </script>\n",
              "    </div>\n",
              "  </div>\n",
              "  "
            ]
          },
          "metadata": {},
          "execution_count": 74
        }
      ],
      "source": [
        "text_df.head(5)"
      ]
    },
    {
      "cell_type": "code",
      "source": [
        "print('The shape of our data is:', text_df.shape)"
      ],
      "metadata": {
        "colab": {
          "base_uri": "https://localhost:8080/"
        },
        "id": "huNxg7SrqbQF",
        "outputId": "aabaeb9a-0020-499a-b83d-718dfb78088c"
      },
      "id": "huNxg7SrqbQF",
      "execution_count": 75,
      "outputs": [
        {
          "output_type": "stream",
          "name": "stdout",
          "text": [
            "The shape of our data is: (1408, 4)\n"
          ]
        }
      ]
    },
    {
      "cell_type": "markdown",
      "id": "eb5a28e6",
      "metadata": {
        "papermill": {
          "duration": 0.029164,
          "end_time": "2021-11-29T07:49:41.567985",
          "exception": false,
          "start_time": "2021-11-29T07:49:41.538821",
          "status": "completed"
        },
        "tags": [],
        "id": "eb5a28e6"
      },
      "source": [
        "Removing the redundant columns"
      ]
    },
    {
      "cell_type": "code",
      "execution_count": 76,
      "id": "72bf2afc",
      "metadata": {
        "execution": {
          "iopub.execute_input": "2021-11-29T07:49:41.642255Z",
          "iopub.status.busy": "2021-11-29T07:49:41.629406Z",
          "iopub.status.idle": "2021-11-29T07:49:41.646099Z",
          "shell.execute_reply": "2021-11-29T07:49:41.645517Z",
          "shell.execute_reply.started": "2021-11-29T07:36:43.588432Z"
        },
        "papermill": {
          "duration": 0.049023,
          "end_time": "2021-11-29T07:49:41.646255",
          "exception": false,
          "start_time": "2021-11-29T07:49:41.597232",
          "status": "completed"
        },
        "tags": [],
        "colab": {
          "base_uri": "https://localhost:8080/",
          "height": 206
        },
        "id": "72bf2afc",
        "outputId": "ce52e164-ef73-4d05-eb55-079254bbcc51"
      },
      "outputs": [
        {
          "output_type": "execute_result",
          "data": {
            "text/plain": [
              "                                cleaned_website_text Category\n",
              "0  official site good hotel accommodation big sav...   Travel\n",
              "1  expedia hotel book sites like use vacation wor...   Travel\n",
              "2  tripadvisor hotel book sites like previously d...   Travel\n",
              "3  cheap flights search compare flights momondo f...   Travel\n",
              "4  bot create free account create free account si...   Travel"
            ],
            "text/html": [
              "\n",
              "  <div id=\"df-dbd9de19-ed31-49c5-bfbc-755974792ba2\">\n",
              "    <div class=\"colab-df-container\">\n",
              "      <div>\n",
              "<style scoped>\n",
              "    .dataframe tbody tr th:only-of-type {\n",
              "        vertical-align: middle;\n",
              "    }\n",
              "\n",
              "    .dataframe tbody tr th {\n",
              "        vertical-align: top;\n",
              "    }\n",
              "\n",
              "    .dataframe thead th {\n",
              "        text-align: right;\n",
              "    }\n",
              "</style>\n",
              "<table border=\"1\" class=\"dataframe\">\n",
              "  <thead>\n",
              "    <tr style=\"text-align: right;\">\n",
              "      <th></th>\n",
              "      <th>cleaned_website_text</th>\n",
              "      <th>Category</th>\n",
              "    </tr>\n",
              "  </thead>\n",
              "  <tbody>\n",
              "    <tr>\n",
              "      <th>0</th>\n",
              "      <td>official site good hotel accommodation big sav...</td>\n",
              "      <td>Travel</td>\n",
              "    </tr>\n",
              "    <tr>\n",
              "      <th>1</th>\n",
              "      <td>expedia hotel book sites like use vacation wor...</td>\n",
              "      <td>Travel</td>\n",
              "    </tr>\n",
              "    <tr>\n",
              "      <th>2</th>\n",
              "      <td>tripadvisor hotel book sites like previously d...</td>\n",
              "      <td>Travel</td>\n",
              "    </tr>\n",
              "    <tr>\n",
              "      <th>3</th>\n",
              "      <td>cheap flights search compare flights momondo f...</td>\n",
              "      <td>Travel</td>\n",
              "    </tr>\n",
              "    <tr>\n",
              "      <th>4</th>\n",
              "      <td>bot create free account create free account si...</td>\n",
              "      <td>Travel</td>\n",
              "    </tr>\n",
              "  </tbody>\n",
              "</table>\n",
              "</div>\n",
              "      <button class=\"colab-df-convert\" onclick=\"convertToInteractive('df-dbd9de19-ed31-49c5-bfbc-755974792ba2')\"\n",
              "              title=\"Convert this dataframe to an interactive table.\"\n",
              "              style=\"display:none;\">\n",
              "        \n",
              "  <svg xmlns=\"http://www.w3.org/2000/svg\" height=\"24px\"viewBox=\"0 0 24 24\"\n",
              "       width=\"24px\">\n",
              "    <path d=\"M0 0h24v24H0V0z\" fill=\"none\"/>\n",
              "    <path d=\"M18.56 5.44l.94 2.06.94-2.06 2.06-.94-2.06-.94-.94-2.06-.94 2.06-2.06.94zm-11 1L8.5 8.5l.94-2.06 2.06-.94-2.06-.94L8.5 2.5l-.94 2.06-2.06.94zm10 10l.94 2.06.94-2.06 2.06-.94-2.06-.94-.94-2.06-.94 2.06-2.06.94z\"/><path d=\"M17.41 7.96l-1.37-1.37c-.4-.4-.92-.59-1.43-.59-.52 0-1.04.2-1.43.59L10.3 9.45l-7.72 7.72c-.78.78-.78 2.05 0 2.83L4 21.41c.39.39.9.59 1.41.59.51 0 1.02-.2 1.41-.59l7.78-7.78 2.81-2.81c.8-.78.8-2.07 0-2.86zM5.41 20L4 18.59l7.72-7.72 1.47 1.35L5.41 20z\"/>\n",
              "  </svg>\n",
              "      </button>\n",
              "      \n",
              "  <style>\n",
              "    .colab-df-container {\n",
              "      display:flex;\n",
              "      flex-wrap:wrap;\n",
              "      gap: 12px;\n",
              "    }\n",
              "\n",
              "    .colab-df-convert {\n",
              "      background-color: #E8F0FE;\n",
              "      border: none;\n",
              "      border-radius: 50%;\n",
              "      cursor: pointer;\n",
              "      display: none;\n",
              "      fill: #1967D2;\n",
              "      height: 32px;\n",
              "      padding: 0 0 0 0;\n",
              "      width: 32px;\n",
              "    }\n",
              "\n",
              "    .colab-df-convert:hover {\n",
              "      background-color: #E2EBFA;\n",
              "      box-shadow: 0px 1px 2px rgba(60, 64, 67, 0.3), 0px 1px 3px 1px rgba(60, 64, 67, 0.15);\n",
              "      fill: #174EA6;\n",
              "    }\n",
              "\n",
              "    [theme=dark] .colab-df-convert {\n",
              "      background-color: #3B4455;\n",
              "      fill: #D2E3FC;\n",
              "    }\n",
              "\n",
              "    [theme=dark] .colab-df-convert:hover {\n",
              "      background-color: #434B5C;\n",
              "      box-shadow: 0px 1px 3px 1px rgba(0, 0, 0, 0.15);\n",
              "      filter: drop-shadow(0px 1px 2px rgba(0, 0, 0, 0.3));\n",
              "      fill: #FFFFFF;\n",
              "    }\n",
              "  </style>\n",
              "\n",
              "      <script>\n",
              "        const buttonEl =\n",
              "          document.querySelector('#df-dbd9de19-ed31-49c5-bfbc-755974792ba2 button.colab-df-convert');\n",
              "        buttonEl.style.display =\n",
              "          google.colab.kernel.accessAllowed ? 'block' : 'none';\n",
              "\n",
              "        async function convertToInteractive(key) {\n",
              "          const element = document.querySelector('#df-dbd9de19-ed31-49c5-bfbc-755974792ba2');\n",
              "          const dataTable =\n",
              "            await google.colab.kernel.invokeFunction('convertToInteractive',\n",
              "                                                     [key], {});\n",
              "          if (!dataTable) return;\n",
              "\n",
              "          const docLinkHtml = 'Like what you see? Visit the ' +\n",
              "            '<a target=\"_blank\" href=https://colab.research.google.com/notebooks/data_table.ipynb>data table notebook</a>'\n",
              "            + ' to learn more about interactive tables.';\n",
              "          element.innerHTML = '';\n",
              "          dataTable['output_type'] = 'display_data';\n",
              "          await google.colab.output.renderOutput(dataTable, element);\n",
              "          const docLink = document.createElement('div');\n",
              "          docLink.innerHTML = docLinkHtml;\n",
              "          element.appendChild(docLink);\n",
              "        }\n",
              "      </script>\n",
              "    </div>\n",
              "  </div>\n",
              "  "
            ]
          },
          "metadata": {},
          "execution_count": 76
        }
      ],
      "source": [
        "del text_df['Unnamed: 0'], text_df['website_url']\n",
        "text_df.head(5)"
      ]
    },
    {
      "cell_type": "code",
      "source": [
        "text_df.info()"
      ],
      "metadata": {
        "colab": {
          "base_uri": "https://localhost:8080/"
        },
        "id": "T0XgrLIBq-nH",
        "outputId": "8ee21063-c3e1-4339-bc22-ec1ffde6713b"
      },
      "id": "T0XgrLIBq-nH",
      "execution_count": 77,
      "outputs": [
        {
          "output_type": "stream",
          "name": "stdout",
          "text": [
            "<class 'pandas.core.frame.DataFrame'>\n",
            "RangeIndex: 1408 entries, 0 to 1407\n",
            "Data columns (total 2 columns):\n",
            " #   Column                Non-Null Count  Dtype \n",
            "---  ------                --------------  ----- \n",
            " 0   cleaned_website_text  1408 non-null   object\n",
            " 1   Category              1408 non-null   object\n",
            "dtypes: object(2)\n",
            "memory usage: 22.1+ KB\n"
          ]
        }
      ]
    },
    {
      "cell_type": "code",
      "execution_count": 78,
      "id": "cc7d1294",
      "metadata": {
        "execution": {
          "iopub.execute_input": "2021-11-29T07:49:41.775579Z",
          "iopub.status.busy": "2021-11-29T07:49:41.774750Z",
          "iopub.status.idle": "2021-11-29T07:49:41.778067Z",
          "shell.execute_reply": "2021-11-29T07:49:41.778558Z",
          "shell.execute_reply.started": "2021-11-29T07:36:43.605817Z"
        },
        "papermill": {
          "duration": 0.041515,
          "end_time": "2021-11-29T07:49:41.778727",
          "exception": false,
          "start_time": "2021-11-29T07:49:41.737212",
          "status": "completed"
        },
        "tags": [],
        "colab": {
          "base_uri": "https://localhost:8080/"
        },
        "id": "cc7d1294",
        "outputId": "025c13a2-915b-43ad-c091-f4a594d12486"
      },
      "outputs": [
        {
          "output_type": "execute_result",
          "data": {
            "text/plain": [
              "['Travel',\n",
              " 'Social Networking and Messaging',\n",
              " 'News',\n",
              " 'Streaming Services',\n",
              " 'Sports',\n",
              " 'Photography',\n",
              " 'Law and Government',\n",
              " 'Health and Fitness',\n",
              " 'Games',\n",
              " 'E-Commerce',\n",
              " 'Forums',\n",
              " 'Food',\n",
              " 'Education',\n",
              " 'Computers and Technology',\n",
              " 'Business/Corporate',\n",
              " 'Adult']"
            ]
          },
          "metadata": {},
          "execution_count": 78
        }
      ],
      "source": [
        "categories = list(text_df['Category'].unique())\n",
        "categories"
      ]
    },
    {
      "cell_type": "markdown",
      "source": [
        "### Data Cleaning"
      ],
      "metadata": {
        "id": "SvIvuB0prvou"
      },
      "id": "SvIvuB0prvou"
    },
    {
      "cell_type": "code",
      "source": [
        "duplicate = text_df[text_df.duplicated()]\n",
        "duplicate.shape[0]\n"
      ],
      "metadata": {
        "colab": {
          "base_uri": "https://localhost:8080/"
        },
        "id": "C2XfvRzvrY4l",
        "outputId": "f0d0c1c1-51a2-49a0-a345-d986f056bb80"
      },
      "id": "C2XfvRzvrY4l",
      "execution_count": 79,
      "outputs": [
        {
          "output_type": "execute_result",
          "data": {
            "text/plain": [
              "33"
            ]
          },
          "metadata": {},
          "execution_count": 79
        }
      ]
    },
    {
      "cell_type": "markdown",
      "source": [
        "Thus the dataset has duplicate entries and we need to remove these duplicate entries."
      ],
      "metadata": {
        "id": "Ufs0kmpJr2Hh"
      },
      "id": "Ufs0kmpJr2Hh"
    },
    {
      "cell_type": "code",
      "source": [
        "text_df = text_df.drop_duplicates()"
      ],
      "metadata": {
        "id": "ebUX-xSn15QH"
      },
      "id": "ebUX-xSn15QH",
      "execution_count": 80,
      "outputs": []
    },
    {
      "cell_type": "code",
      "execution_count": 81,
      "id": "b3968664",
      "metadata": {
        "execution": {
          "iopub.execute_input": "2021-11-29T07:49:41.979179Z",
          "iopub.status.busy": "2021-11-29T07:49:41.978280Z",
          "iopub.status.idle": "2021-11-29T07:49:42.007013Z",
          "shell.execute_reply": "2021-11-29T07:49:42.007564Z",
          "shell.execute_reply.started": "2021-11-29T07:36:43.632065Z"
        },
        "papermill": {
          "duration": 0.063508,
          "end_time": "2021-11-29T07:49:42.007753",
          "exception": false,
          "start_time": "2021-11-29T07:49:41.944245",
          "status": "completed"
        },
        "tags": [],
        "colab": {
          "base_uri": "https://localhost:8080/",
          "height": 424
        },
        "id": "b3968664",
        "outputId": "2ee5553b-4505-4706-ec19-29189a4b32ba"
      },
      "outputs": [
        {
          "output_type": "execute_result",
          "data": {
            "text/plain": [
              "                                   cleaned_website_text Category\n",
              "0     official site good hotel accommodation big sav...   Travel\n",
              "1     expedia hotel book sites like use vacation wor...   Travel\n",
              "2     tripadvisor hotel book sites like previously d...   Travel\n",
              "3     cheap flights search compare flights momondo f...   Travel\n",
              "4     bot create free account create free account si...   Travel\n",
              "...                                                 ...      ...\n",
              "1403  old nude women porn mature granny sex horny ol...    Adult\n",
              "1404  bdsm cams bdsm chat bondage cams free bdsm vid...    Adult\n",
              "1405  porno dvd online european porn dvd cheap adult...    Adult\n",
              "1406  anal dream house anal dream house anal dream h...    Adult\n",
              "1407  world sex news daily sex news adult news eroti...    Adult\n",
              "\n",
              "[1375 rows x 2 columns]"
            ],
            "text/html": [
              "\n",
              "  <div id=\"df-457d27b8-a884-49d3-8182-66ff18935c5a\">\n",
              "    <div class=\"colab-df-container\">\n",
              "      <div>\n",
              "<style scoped>\n",
              "    .dataframe tbody tr th:only-of-type {\n",
              "        vertical-align: middle;\n",
              "    }\n",
              "\n",
              "    .dataframe tbody tr th {\n",
              "        vertical-align: top;\n",
              "    }\n",
              "\n",
              "    .dataframe thead th {\n",
              "        text-align: right;\n",
              "    }\n",
              "</style>\n",
              "<table border=\"1\" class=\"dataframe\">\n",
              "  <thead>\n",
              "    <tr style=\"text-align: right;\">\n",
              "      <th></th>\n",
              "      <th>cleaned_website_text</th>\n",
              "      <th>Category</th>\n",
              "    </tr>\n",
              "  </thead>\n",
              "  <tbody>\n",
              "    <tr>\n",
              "      <th>0</th>\n",
              "      <td>official site good hotel accommodation big sav...</td>\n",
              "      <td>Travel</td>\n",
              "    </tr>\n",
              "    <tr>\n",
              "      <th>1</th>\n",
              "      <td>expedia hotel book sites like use vacation wor...</td>\n",
              "      <td>Travel</td>\n",
              "    </tr>\n",
              "    <tr>\n",
              "      <th>2</th>\n",
              "      <td>tripadvisor hotel book sites like previously d...</td>\n",
              "      <td>Travel</td>\n",
              "    </tr>\n",
              "    <tr>\n",
              "      <th>3</th>\n",
              "      <td>cheap flights search compare flights momondo f...</td>\n",
              "      <td>Travel</td>\n",
              "    </tr>\n",
              "    <tr>\n",
              "      <th>4</th>\n",
              "      <td>bot create free account create free account si...</td>\n",
              "      <td>Travel</td>\n",
              "    </tr>\n",
              "    <tr>\n",
              "      <th>...</th>\n",
              "      <td>...</td>\n",
              "      <td>...</td>\n",
              "    </tr>\n",
              "    <tr>\n",
              "      <th>1403</th>\n",
              "      <td>old nude women porn mature granny sex horny ol...</td>\n",
              "      <td>Adult</td>\n",
              "    </tr>\n",
              "    <tr>\n",
              "      <th>1404</th>\n",
              "      <td>bdsm cams bdsm chat bondage cams free bdsm vid...</td>\n",
              "      <td>Adult</td>\n",
              "    </tr>\n",
              "    <tr>\n",
              "      <th>1405</th>\n",
              "      <td>porno dvd online european porn dvd cheap adult...</td>\n",
              "      <td>Adult</td>\n",
              "    </tr>\n",
              "    <tr>\n",
              "      <th>1406</th>\n",
              "      <td>anal dream house anal dream house anal dream h...</td>\n",
              "      <td>Adult</td>\n",
              "    </tr>\n",
              "    <tr>\n",
              "      <th>1407</th>\n",
              "      <td>world sex news daily sex news adult news eroti...</td>\n",
              "      <td>Adult</td>\n",
              "    </tr>\n",
              "  </tbody>\n",
              "</table>\n",
              "<p>1375 rows × 2 columns</p>\n",
              "</div>\n",
              "      <button class=\"colab-df-convert\" onclick=\"convertToInteractive('df-457d27b8-a884-49d3-8182-66ff18935c5a')\"\n",
              "              title=\"Convert this dataframe to an interactive table.\"\n",
              "              style=\"display:none;\">\n",
              "        \n",
              "  <svg xmlns=\"http://www.w3.org/2000/svg\" height=\"24px\"viewBox=\"0 0 24 24\"\n",
              "       width=\"24px\">\n",
              "    <path d=\"M0 0h24v24H0V0z\" fill=\"none\"/>\n",
              "    <path d=\"M18.56 5.44l.94 2.06.94-2.06 2.06-.94-2.06-.94-.94-2.06-.94 2.06-2.06.94zm-11 1L8.5 8.5l.94-2.06 2.06-.94-2.06-.94L8.5 2.5l-.94 2.06-2.06.94zm10 10l.94 2.06.94-2.06 2.06-.94-2.06-.94-.94-2.06-.94 2.06-2.06.94z\"/><path d=\"M17.41 7.96l-1.37-1.37c-.4-.4-.92-.59-1.43-.59-.52 0-1.04.2-1.43.59L10.3 9.45l-7.72 7.72c-.78.78-.78 2.05 0 2.83L4 21.41c.39.39.9.59 1.41.59.51 0 1.02-.2 1.41-.59l7.78-7.78 2.81-2.81c.8-.78.8-2.07 0-2.86zM5.41 20L4 18.59l7.72-7.72 1.47 1.35L5.41 20z\"/>\n",
              "  </svg>\n",
              "      </button>\n",
              "      \n",
              "  <style>\n",
              "    .colab-df-container {\n",
              "      display:flex;\n",
              "      flex-wrap:wrap;\n",
              "      gap: 12px;\n",
              "    }\n",
              "\n",
              "    .colab-df-convert {\n",
              "      background-color: #E8F0FE;\n",
              "      border: none;\n",
              "      border-radius: 50%;\n",
              "      cursor: pointer;\n",
              "      display: none;\n",
              "      fill: #1967D2;\n",
              "      height: 32px;\n",
              "      padding: 0 0 0 0;\n",
              "      width: 32px;\n",
              "    }\n",
              "\n",
              "    .colab-df-convert:hover {\n",
              "      background-color: #E2EBFA;\n",
              "      box-shadow: 0px 1px 2px rgba(60, 64, 67, 0.3), 0px 1px 3px 1px rgba(60, 64, 67, 0.15);\n",
              "      fill: #174EA6;\n",
              "    }\n",
              "\n",
              "    [theme=dark] .colab-df-convert {\n",
              "      background-color: #3B4455;\n",
              "      fill: #D2E3FC;\n",
              "    }\n",
              "\n",
              "    [theme=dark] .colab-df-convert:hover {\n",
              "      background-color: #434B5C;\n",
              "      box-shadow: 0px 1px 3px 1px rgba(0, 0, 0, 0.15);\n",
              "      filter: drop-shadow(0px 1px 2px rgba(0, 0, 0, 0.3));\n",
              "      fill: #FFFFFF;\n",
              "    }\n",
              "  </style>\n",
              "\n",
              "      <script>\n",
              "        const buttonEl =\n",
              "          document.querySelector('#df-457d27b8-a884-49d3-8182-66ff18935c5a button.colab-df-convert');\n",
              "        buttonEl.style.display =\n",
              "          google.colab.kernel.accessAllowed ? 'block' : 'none';\n",
              "\n",
              "        async function convertToInteractive(key) {\n",
              "          const element = document.querySelector('#df-457d27b8-a884-49d3-8182-66ff18935c5a');\n",
              "          const dataTable =\n",
              "            await google.colab.kernel.invokeFunction('convertToInteractive',\n",
              "                                                     [key], {});\n",
              "          if (!dataTable) return;\n",
              "\n",
              "          const docLinkHtml = 'Like what you see? Visit the ' +\n",
              "            '<a target=\"_blank\" href=https://colab.research.google.com/notebooks/data_table.ipynb>data table notebook</a>'\n",
              "            + ' to learn more about interactive tables.';\n",
              "          element.innerHTML = '';\n",
              "          dataTable['output_type'] = 'display_data';\n",
              "          await google.colab.output.renderOutput(dataTable, element);\n",
              "          const docLink = document.createElement('div');\n",
              "          docLink.innerHTML = docLinkHtml;\n",
              "          element.appendChild(docLink);\n",
              "        }\n",
              "      </script>\n",
              "    </div>\n",
              "  </div>\n",
              "  "
            ]
          },
          "metadata": {},
          "execution_count": 81
        }
      ],
      "source": [
        "text_df.drop_duplicates()"
      ]
    },
    {
      "cell_type": "code",
      "execution_count": 82,
      "id": "ee8f7464",
      "metadata": {
        "execution": {
          "iopub.execute_input": "2021-11-29T07:49:42.203183Z",
          "iopub.status.busy": "2021-11-29T07:49:42.199148Z",
          "iopub.status.idle": "2021-11-29T07:49:42.209120Z",
          "shell.execute_reply": "2021-11-29T07:49:42.209578Z",
          "shell.execute_reply.started": "2021-11-29T07:36:43.667501Z"
        },
        "papermill": {
          "duration": 0.044913,
          "end_time": "2021-11-29T07:49:42.209772",
          "exception": false,
          "start_time": "2021-11-29T07:49:42.164859",
          "status": "completed"
        },
        "tags": [],
        "colab": {
          "base_uri": "https://localhost:8080/"
        },
        "id": "ee8f7464",
        "outputId": "35104d4c-46c6-40ff-ffde-2e81e107bebd"
      },
      "outputs": [
        {
          "output_type": "execute_result",
          "data": {
            "text/plain": [
              "Education                          114\n",
              "Business/Corporate                 108\n",
              "Travel                             106\n",
              "Streaming Services                 104\n",
              "E-Commerce                         101\n",
              "Sports                             100\n",
              "Games                               98\n",
              "News                                92\n",
              "Food                                92\n",
              "Computers and Technology            90\n",
              "Health and Fitness                  89\n",
              "Photography                         87\n",
              "Law and Government                  83\n",
              "Social Networking and Messaging     79\n",
              "Forums                              16\n",
              "Adult                               16\n",
              "Name: Category, dtype: int64"
            ]
          },
          "metadata": {},
          "execution_count": 82
        }
      ],
      "source": [
        "text_df['Category'].value_counts()"
      ]
    },
    {
      "cell_type": "markdown",
      "id": "c1b22457",
      "metadata": {
        "papermill": {
          "duration": 0.032867,
          "end_time": "2021-11-29T07:49:42.275168",
          "exception": false,
          "start_time": "2021-11-29T07:49:42.242301",
          "status": "completed"
        },
        "tags": [],
        "id": "c1b22457"
      },
      "source": [
        "Number of unique rows by category"
      ]
    },
    {
      "cell_type": "code",
      "execution_count": 83,
      "id": "2adb9294",
      "metadata": {
        "execution": {
          "iopub.execute_input": "2021-11-29T07:49:42.342949Z",
          "iopub.status.busy": "2021-11-29T07:49:42.341910Z",
          "iopub.status.idle": "2021-11-29T07:49:42.379435Z",
          "shell.execute_reply": "2021-11-29T07:49:42.380035Z",
          "shell.execute_reply.started": "2021-11-29T07:36:43.678413Z"
        },
        "papermill": {
          "duration": 0.073624,
          "end_time": "2021-11-29T07:49:42.380245",
          "exception": false,
          "start_time": "2021-11-29T07:49:42.306621",
          "status": "completed"
        },
        "tags": [],
        "id": "2adb9294"
      },
      "outputs": [],
      "source": [
        "cat_unique_val = {}\n",
        "\n",
        "for category in categories:\n",
        "    mask = text_df['Category'] == category\n",
        "    list_length = len(list(text_df[mask]['cleaned_website_text'].unique()))\n",
        "    cat_unique_val.update({category: list_length})\n",
        "\n",
        "    cat_unique_val"
      ]
    },
    {
      "cell_type": "markdown",
      "id": "505a0208",
      "metadata": {
        "papermill": {
          "duration": 0.030999,
          "end_time": "2021-11-29T07:49:42.444075",
          "exception": false,
          "start_time": "2021-11-29T07:49:42.413076",
          "status": "completed"
        },
        "tags": [],
        "id": "505a0208"
      },
      "source": [
        "Sort dictionary in descending order"
      ]
    },
    {
      "cell_type": "code",
      "execution_count": 84,
      "id": "af4b3a57",
      "metadata": {
        "execution": {
          "iopub.execute_input": "2021-11-29T07:49:42.510494Z",
          "iopub.status.busy": "2021-11-29T07:49:42.509449Z",
          "iopub.status.idle": "2021-11-29T07:49:42.516454Z",
          "shell.execute_reply": "2021-11-29T07:49:42.517037Z",
          "shell.execute_reply.started": "2021-11-29T07:36:43.721627Z"
        },
        "papermill": {
          "duration": 0.041971,
          "end_time": "2021-11-29T07:49:42.517215",
          "exception": false,
          "start_time": "2021-11-29T07:49:42.475244",
          "status": "completed"
        },
        "tags": [],
        "colab": {
          "base_uri": "https://localhost:8080/"
        },
        "id": "af4b3a57",
        "outputId": "0edc36ec-9a79-472d-e54b-6f84502827d6"
      },
      "outputs": [
        {
          "output_type": "execute_result",
          "data": {
            "text/plain": [
              "{'Education': 114,\n",
              " 'Business/Corporate': 108,\n",
              " 'Travel': 106,\n",
              " 'Streaming Services': 104,\n",
              " 'E-Commerce': 101,\n",
              " 'Sports': 100,\n",
              " 'Games': 98,\n",
              " 'Food': 92,\n",
              " 'News': 92,\n",
              " 'Computers and Technology': 90,\n",
              " 'Health and Fitness': 89,\n",
              " 'Photography': 87,\n",
              " 'Law and Government': 83,\n",
              " 'Social Networking and Messaging': 79,\n",
              " 'Adult': 16,\n",
              " 'Forums': 16}"
            ]
          },
          "metadata": {},
          "execution_count": 84
        }
      ],
      "source": [
        "cat_unique_val_sorted = {}\n",
        "sorted_keys = sorted(cat_unique_val, key=cat_unique_val.get)\n",
        "\n",
        "for w in list(reversed(sorted_keys)):\n",
        "    cat_unique_val_sorted[w] = cat_unique_val[w]\n",
        "    \n",
        "# cat_unique_val_sorted\n",
        "cat_unique_val_sorted"
      ]
    },
    {
      "cell_type": "code",
      "execution_count": 85,
      "id": "c6354e60",
      "metadata": {
        "execution": {
          "iopub.execute_input": "2021-11-29T07:49:42.744811Z",
          "iopub.status.busy": "2021-11-29T07:49:42.743885Z",
          "iopub.status.idle": "2021-11-29T07:49:42.747196Z",
          "shell.execute_reply": "2021-11-29T07:49:42.747681Z",
          "shell.execute_reply.started": "2021-11-29T07:36:43.761509Z"
        },
        "papermill": {
          "duration": 0.043015,
          "end_time": "2021-11-29T07:49:42.747868",
          "exception": false,
          "start_time": "2021-11-29T07:49:42.704853",
          "status": "completed"
        },
        "tags": [],
        "colab": {
          "base_uri": "https://localhost:8080/"
        },
        "id": "c6354e60",
        "outputId": "3b202f50-1e39-4189-a815-c0f2f12a6b40"
      },
      "outputs": [
        {
          "output_type": "execute_result",
          "data": {
            "text/plain": [
              "(1375, 2)"
            ]
          },
          "metadata": {},
          "execution_count": 85
        }
      ],
      "source": [
        "text_df.shape"
      ]
    },
    {
      "cell_type": "markdown",
      "id": "0a34c54f",
      "metadata": {
        "papermill": {
          "duration": 0.032377,
          "end_time": "2021-11-29T07:49:42.812235",
          "exception": false,
          "start_time": "2021-11-29T07:49:42.779858",
          "status": "completed"
        },
        "tags": [],
        "id": "0a34c54f"
      },
      "source": [
        "<h3>Text cleaning</h3>"
      ]
    },
    {
      "cell_type": "markdown",
      "id": "1c9808a5",
      "metadata": {
        "papermill": {
          "duration": 0.03156,
          "end_time": "2021-11-29T07:49:42.876926",
          "exception": false,
          "start_time": "2021-11-29T07:49:42.845366",
          "status": "completed"
        },
        "tags": [],
        "id": "1c9808a5"
      },
      "source": [
        "<p>Removing stopwords and punctuation from <B><I>\"cleaned_website_text\" column</I></B></p>"
      ]
    },
    {
      "cell_type": "code",
      "execution_count": 86,
      "id": "0c1747df",
      "metadata": {
        "execution": {
          "iopub.execute_input": "2021-11-29T07:49:42.944425Z",
          "iopub.status.busy": "2021-11-29T07:49:42.943419Z",
          "iopub.status.idle": "2021-11-29T07:49:42.949975Z",
          "shell.execute_reply": "2021-11-29T07:49:42.950499Z",
          "shell.execute_reply.started": "2021-11-29T07:36:43.768723Z"
        },
        "papermill": {
          "duration": 0.041931,
          "end_time": "2021-11-29T07:49:42.950693",
          "exception": false,
          "start_time": "2021-11-29T07:49:42.908762",
          "status": "completed"
        },
        "tags": [],
        "id": "0c1747df"
      },
      "outputs": [],
      "source": [
        "stop_words = set(stopwords.words('english'))"
      ]
    },
    {
      "cell_type": "code",
      "execution_count": 87,
      "id": "897f8734",
      "metadata": {
        "execution": {
          "iopub.execute_input": "2021-11-29T07:49:43.021558Z",
          "iopub.status.busy": "2021-11-29T07:49:43.020438Z",
          "iopub.status.idle": "2021-11-29T07:49:43.022812Z",
          "shell.execute_reply": "2021-11-29T07:49:43.023284Z",
          "shell.execute_reply.started": "2021-11-29T07:36:43.784171Z"
        },
        "papermill": {
          "duration": 0.039427,
          "end_time": "2021-11-29T07:49:43.023463",
          "exception": false,
          "start_time": "2021-11-29T07:49:42.984036",
          "status": "completed"
        },
        "tags": [],
        "id": "897f8734"
      },
      "outputs": [],
      "source": [
        "regular_punct = list(string.punctuation)"
      ]
    },
    {
      "cell_type": "markdown",
      "id": "797b5533",
      "metadata": {
        "papermill": {
          "duration": 0.031991,
          "end_time": "2021-11-29T07:49:43.087149",
          "exception": false,
          "start_time": "2021-11-29T07:49:43.055158",
          "status": "completed"
        },
        "tags": [],
        "id": "797b5533"
      },
      "source": [
        "<h3>According to title text in our dataframe column is cleared, but in any case we will aplly function to remove posssible stopwords and punctuation</h3>"
      ]
    },
    {
      "cell_type": "code",
      "execution_count": 88,
      "id": "43056066",
      "metadata": {
        "execution": {
          "iopub.execute_input": "2021-11-29T07:49:43.160932Z",
          "iopub.status.busy": "2021-11-29T07:49:43.160054Z",
          "iopub.status.idle": "2021-11-29T07:49:43.163361Z",
          "shell.execute_reply": "2021-11-29T07:49:43.163876Z",
          "shell.execute_reply.started": "2021-11-29T07:36:43.791053Z"
        },
        "papermill": {
          "duration": 0.04377,
          "end_time": "2021-11-29T07:49:43.164060",
          "exception": false,
          "start_time": "2021-11-29T07:49:43.120290",
          "status": "completed"
        },
        "tags": [],
        "colab": {
          "base_uri": "https://localhost:8080/"
        },
        "id": "43056066",
        "outputId": "c727afa0-9426-4ac2-9d50-c514cd08daaf"
      },
      "outputs": [
        {
          "output_type": "execute_result",
          "data": {
            "text/plain": [
              "0       official site good hotel accommodation big sav...\n",
              "1       expedia hotel book sites like use vacation wor...\n",
              "2       tripadvisor hotel book sites like previously d...\n",
              "3       cheap flights search compare flights momondo f...\n",
              "4       bot create free account create free account si...\n",
              "                              ...                        \n",
              "1403    old nude women porn mature granny sex horny ol...\n",
              "1404    bdsm cams bdsm chat bondage cams free bdsm vid...\n",
              "1405    porno dvd online european porn dvd cheap adult...\n",
              "1406    anal dream house anal dream house anal dream h...\n",
              "1407    world sex news daily sex news adult news eroti...\n",
              "Name: cleaned_website_text, Length: 1375, dtype: object"
            ]
          },
          "metadata": {},
          "execution_count": 88
        }
      ],
      "source": [
        "text_df['cleaned_website_text']"
      ]
    },
    {
      "cell_type": "code",
      "execution_count": 89,
      "id": "203c2cb2",
      "metadata": {
        "execution": {
          "iopub.execute_input": "2021-11-29T07:49:43.234780Z",
          "iopub.status.busy": "2021-11-29T07:49:43.233580Z",
          "iopub.status.idle": "2021-11-29T07:49:43.239184Z",
          "shell.execute_reply": "2021-11-29T07:49:43.239678Z",
          "shell.execute_reply.started": "2021-11-29T07:36:43.805695Z"
        },
        "papermill": {
          "duration": 0.042874,
          "end_time": "2021-11-29T07:49:43.239888",
          "exception": false,
          "start_time": "2021-11-29T07:49:43.197014",
          "status": "completed"
        },
        "tags": [],
        "id": "203c2cb2"
      },
      "outputs": [],
      "source": [
        "def text_preprocessing(x):\n",
        "    filtered_sentence = []\n",
        "    word_tokens = word_tokenize(x)\n",
        "    \n",
        "    for w in word_tokens:\n",
        "        if w not in chain(stop_words, regular_punct):\n",
        "            # we make sure that all words are written in lowercase\n",
        "            filtered_sentence.append(w.lower())\n",
        "    \n",
        "    # Converting a list of strings back to a string\n",
        "    filtered_sentence = \" \".join(filtered_sentence)\n",
        "    return filtered_sentence"
      ]
    },
    {
      "cell_type": "code",
      "source": [
        ">>> import nltk\n",
        ">>> nltk.download('punkt')"
      ],
      "metadata": {
        "colab": {
          "base_uri": "https://localhost:8080/"
        },
        "id": "zf00h5riLFE4",
        "outputId": "3b519d24-8b2f-402d-c708-c98029fa0e25"
      },
      "id": "zf00h5riLFE4",
      "execution_count": 90,
      "outputs": [
        {
          "output_type": "stream",
          "name": "stderr",
          "text": [
            "[nltk_data] Downloading package punkt to /root/nltk_data...\n",
            "[nltk_data]   Package punkt is already up-to-date!\n"
          ]
        },
        {
          "output_type": "execute_result",
          "data": {
            "text/plain": [
              "True"
            ]
          },
          "metadata": {},
          "execution_count": 90
        }
      ]
    },
    {
      "cell_type": "code",
      "execution_count": 91,
      "id": "8df2bef6",
      "metadata": {
        "execution": {
          "iopub.execute_input": "2021-11-29T07:49:43.311478Z",
          "iopub.status.busy": "2021-11-29T07:49:43.310398Z",
          "iopub.status.idle": "2021-11-29T07:50:00.856950Z",
          "shell.execute_reply": "2021-11-29T07:50:00.856287Z",
          "shell.execute_reply.started": "2021-11-29T07:36:43.812943Z"
        },
        "papermill": {
          "duration": 17.583159,
          "end_time": "2021-11-29T07:50:00.857120",
          "exception": false,
          "start_time": "2021-11-29T07:49:43.273961",
          "status": "completed"
        },
        "tags": [],
        "id": "8df2bef6"
      },
      "outputs": [],
      "source": [
        "text_df['cleaned_website_text'] = text_df['cleaned_website_text'].apply(text_preprocessing)"
      ]
    },
    {
      "cell_type": "code",
      "execution_count": 92,
      "id": "585eded3",
      "metadata": {
        "execution": {
          "iopub.execute_input": "2021-11-29T07:50:00.935352Z",
          "iopub.status.busy": "2021-11-29T07:50:00.934486Z",
          "iopub.status.idle": "2021-11-29T07:50:00.937871Z",
          "shell.execute_reply": "2021-11-29T07:50:00.938610Z",
          "shell.execute_reply.started": "2021-11-29T07:37:01.356413Z"
        },
        "papermill": {
          "duration": 0.046834,
          "end_time": "2021-11-29T07:50:00.938878",
          "exception": false,
          "start_time": "2021-11-29T07:50:00.892044",
          "status": "completed"
        },
        "tags": [],
        "colab": {
          "base_uri": "https://localhost:8080/"
        },
        "id": "585eded3",
        "outputId": "be4d8ba1-00d1-4efb-fe84-c6cf8f1581db"
      },
      "outputs": [
        {
          "output_type": "execute_result",
          "data": {
            "text/plain": [
              "0       official site good hotel accommodation big sav...\n",
              "1       expedia hotel book sites like use vacation wor...\n",
              "2       tripadvisor hotel book sites like previously d...\n",
              "3       cheap flights search compare flights momondo f...\n",
              "4       bot create free account create free account si...\n",
              "                              ...                        \n",
              "1403    old nude women porn mature granny sex horny ol...\n",
              "1404    bdsm cams bdsm chat bondage cams free bdsm vid...\n",
              "1405    porno dvd online european porn dvd cheap adult...\n",
              "1406    anal dream house anal dream house anal dream h...\n",
              "1407    world sex news daily sex news adult news eroti...\n",
              "Name: cleaned_website_text, Length: 1375, dtype: object"
            ]
          },
          "metadata": {},
          "execution_count": 92
        }
      ],
      "source": [
        "text_df['cleaned_website_text']"
      ]
    },
    {
      "cell_type": "markdown",
      "id": "2c7b103d",
      "metadata": {
        "papermill": {
          "duration": 0.039486,
          "end_time": "2021-11-29T07:50:01.012853",
          "exception": false,
          "start_time": "2021-11-29T07:50:00.973367",
          "status": "completed"
        },
        "tags": [],
        "id": "2c7b103d"
      },
      "source": [
        "<h3>Preprocessing the data</h3>"
      ]
    },
    {
      "cell_type": "markdown",
      "id": "275de256",
      "metadata": {
        "papermill": {
          "duration": 0.04675,
          "end_time": "2021-11-29T07:50:01.101929",
          "exception": false,
          "start_time": "2021-11-29T07:50:01.055179",
          "status": "completed"
        },
        "tags": [],
        "id": "275de256"
      },
      "source": [
        "<h4>One of the simplest\n",
        "methods of encoding text data is by word count: For each phrase, you count the\n",
        "number of occurrences of each word within it. In scikit-learn, this is easily done using\n",
        "CountVectorizer:</h4>"
      ]
    },
    {
      "cell_type": "code",
      "execution_count": 93,
      "id": "9bd69000",
      "metadata": {
        "execution": {
          "iopub.execute_input": "2021-11-29T07:50:01.312482Z",
          "iopub.status.busy": "2021-11-29T07:50:01.311673Z",
          "iopub.status.idle": "2021-11-29T07:50:02.711274Z",
          "shell.execute_reply": "2021-11-29T07:50:02.710486Z",
          "shell.execute_reply.started": "2021-11-29T07:37:01.366281Z"
        },
        "papermill": {
          "duration": 1.437218,
          "end_time": "2021-11-29T07:50:02.711434",
          "exception": false,
          "start_time": "2021-11-29T07:50:01.274216",
          "status": "completed"
        },
        "tags": [],
        "colab": {
          "base_uri": "https://localhost:8080/"
        },
        "id": "9bd69000",
        "outputId": "7f150bed-e279-4155-83db-b7086c6696d0"
      },
      "outputs": [
        {
          "output_type": "execute_result",
          "data": {
            "text/plain": [
              "(1375, 59995)"
            ]
          },
          "metadata": {},
          "execution_count": 93
        }
      ],
      "source": [
        "counts = feature_extraction.text.CountVectorizer()\n",
        "X = counts.fit_transform(text_df['cleaned_website_text'].values)\n",
        "X.shape"
      ]
    },
    {
      "cell_type": "code",
      "execution_count": 94,
      "id": "8cf05efc",
      "metadata": {
        "execution": {
          "iopub.execute_input": "2021-11-29T07:50:02.783544Z",
          "iopub.status.busy": "2021-11-29T07:50:02.782838Z",
          "iopub.status.idle": "2021-11-29T07:50:02.786065Z",
          "shell.execute_reply": "2021-11-29T07:50:02.785494Z",
          "shell.execute_reply.started": "2021-11-29T07:37:02.752597Z"
        },
        "papermill": {
          "duration": 0.041186,
          "end_time": "2021-11-29T07:50:02.786217",
          "exception": false,
          "start_time": "2021-11-29T07:50:02.745031",
          "status": "completed"
        },
        "tags": [],
        "id": "8cf05efc"
      },
      "outputs": [],
      "source": [
        "y = text_df['Category'].values"
      ]
    },
    {
      "cell_type": "markdown",
      "id": "314ad410",
      "metadata": {
        "papermill": {
          "duration": 0.035498,
          "end_time": "2021-11-29T07:50:02.855929",
          "exception": false,
          "start_time": "2021-11-29T07:50:02.820431",
          "status": "completed"
        },
        "tags": [],
        "id": "314ad410"
      },
      "source": [
        "Training the model using Naive Bayes Classifier"
      ]
    },
    {
      "cell_type": "code",
      "execution_count": 95,
      "id": "1eca3165",
      "metadata": {
        "execution": {
          "iopub.execute_input": "2021-11-29T07:50:02.928529Z",
          "iopub.status.busy": "2021-11-29T07:50:02.927794Z",
          "iopub.status.idle": "2021-11-29T07:50:02.937923Z",
          "shell.execute_reply": "2021-11-29T07:50:02.938511Z",
          "shell.execute_reply.started": "2021-11-29T07:37:02.758896Z"
        },
        "papermill": {
          "duration": 0.048947,
          "end_time": "2021-11-29T07:50:02.938714",
          "exception": false,
          "start_time": "2021-11-29T07:50:02.889767",
          "status": "completed"
        },
        "tags": [],
        "id": "1eca3165"
      },
      "outputs": [],
      "source": [
        "X_train, X_test, y_train, y_test = ms.train_test_split(X, y, test_size=0.2, random_state=0)"
      ]
    },
    {
      "cell_type": "code",
      "execution_count": 96,
      "id": "465d2bee",
      "metadata": {
        "execution": {
          "iopub.execute_input": "2021-11-29T07:50:03.015082Z",
          "iopub.status.busy": "2021-11-29T07:50:03.014327Z",
          "iopub.status.idle": "2021-11-29T07:50:03.084958Z",
          "shell.execute_reply": "2021-11-29T07:50:03.085539Z",
          "shell.execute_reply.started": "2021-11-29T07:37:02.777901Z"
        },
        "papermill": {
          "duration": 0.112753,
          "end_time": "2021-11-29T07:50:03.085719",
          "exception": false,
          "start_time": "2021-11-29T07:50:02.972966",
          "status": "completed"
        },
        "tags": [],
        "colab": {
          "base_uri": "https://localhost:8080/"
        },
        "id": "465d2bee",
        "outputId": "58596d60-15ff-44eb-a5e9-68c438dc0f9a"
      },
      "outputs": [
        {
          "output_type": "execute_result",
          "data": {
            "text/plain": [
              "MultinomialNB()"
            ]
          },
          "metadata": {},
          "execution_count": 96
        }
      ],
      "source": [
        "model_naive = naive_bayes.MultinomialNB()\n",
        "model_naive.fit(X_train, y_train)"
      ]
    },
    {
      "cell_type": "code",
      "execution_count": 97,
      "id": "e288ff94",
      "metadata": {
        "execution": {
          "iopub.execute_input": "2021-11-29T07:50:03.159111Z",
          "iopub.status.busy": "2021-11-29T07:50:03.158341Z",
          "iopub.status.idle": "2021-11-29T07:50:03.175763Z",
          "shell.execute_reply": "2021-11-29T07:50:03.176335Z",
          "shell.execute_reply.started": "2021-11-29T07:37:02.852088Z"
        },
        "papermill": {
          "duration": 0.056138,
          "end_time": "2021-11-29T07:50:03.176514",
          "exception": false,
          "start_time": "2021-11-29T07:50:03.120376",
          "status": "completed"
        },
        "tags": [],
        "colab": {
          "base_uri": "https://localhost:8080/"
        },
        "id": "e288ff94",
        "outputId": "c29f74de-2888-4ff4-d8cf-37949bfd95ee"
      },
      "outputs": [
        {
          "output_type": "execute_result",
          "data": {
            "text/plain": [
              "0.9818181818181818"
            ]
          },
          "metadata": {},
          "execution_count": 97
        }
      ],
      "source": [
        "model_naive.score(X_train, y_train)"
      ]
    },
    {
      "cell_type": "code",
      "execution_count": 98,
      "id": "2f3feaa8",
      "metadata": {
        "execution": {
          "iopub.execute_input": "2021-11-29T07:50:03.248121Z",
          "iopub.status.busy": "2021-11-29T07:50:03.247414Z",
          "iopub.status.idle": "2021-11-29T07:50:03.257812Z",
          "shell.execute_reply": "2021-11-29T07:50:03.258459Z",
          "shell.execute_reply.started": "2021-11-29T07:37:02.873472Z"
        },
        "papermill": {
          "duration": 0.048067,
          "end_time": "2021-11-29T07:50:03.258640",
          "exception": false,
          "start_time": "2021-11-29T07:50:03.210573",
          "status": "completed"
        },
        "tags": [],
        "colab": {
          "base_uri": "https://localhost:8080/"
        },
        "id": "2f3feaa8",
        "outputId": "8b8b1c8d-8238-4182-c064-1804ad10e91e"
      },
      "outputs": [
        {
          "output_type": "execute_result",
          "data": {
            "text/plain": [
              "0.9163636363636364"
            ]
          },
          "metadata": {},
          "execution_count": 98
        }
      ],
      "source": [
        "model_naive.score(X_test, y_test)"
      ]
    },
    {
      "cell_type": "markdown",
      "id": "b54b3da3",
      "metadata": {
        "papermill": {
          "duration": 0.037236,
          "end_time": "2021-11-29T07:50:03.331278",
          "exception": false,
          "start_time": "2021-11-29T07:50:03.294042",
          "status": "completed"
        },
        "tags": [],
        "id": "b54b3da3"
      },
      "source": [
        "Therefore we have achieved an accuracy of 91% on our test dataset"
      ]
    },
    {
      "cell_type": "markdown",
      "id": "29a471b5",
      "metadata": {
        "papermill": {
          "duration": 0.035868,
          "end_time": "2021-11-29T07:50:03.404781",
          "exception": false,
          "start_time": "2021-11-29T07:50:03.368913",
          "status": "completed"
        },
        "tags": [],
        "id": "29a471b5"
      },
      "source": [
        "<h4>Confusion matrix</h4>"
      ]
    },
    {
      "cell_type": "code",
      "execution_count": 99,
      "id": "b41ec39f",
      "metadata": {
        "execution": {
          "iopub.execute_input": "2021-11-29T07:50:03.483615Z",
          "iopub.status.busy": "2021-11-29T07:50:03.482856Z",
          "iopub.status.idle": "2021-11-29T07:50:03.495242Z",
          "shell.execute_reply": "2021-11-29T07:50:03.495776Z",
          "shell.execute_reply.started": "2021-11-29T07:37:02.888550Z"
        },
        "papermill": {
          "duration": 0.054143,
          "end_time": "2021-11-29T07:50:03.495986",
          "exception": false,
          "start_time": "2021-11-29T07:50:03.441843",
          "status": "completed"
        },
        "tags": [],
        "colab": {
          "base_uri": "https://localhost:8080/"
        },
        "id": "b41ec39f",
        "outputId": "2b0ec999-1b3c-4f5f-ab78-3c2991015d11"
      },
      "outputs": [
        {
          "output_type": "execute_result",
          "data": {
            "text/plain": [
              "array([[ 3,  0,  0,  0,  0,  0,  0,  0,  0,  0,  0,  0,  0,  0,  0,  0],\n",
              "       [ 0, 17,  0,  3,  0,  0,  0,  0,  0,  1,  3,  0,  0,  0,  0,  1],\n",
              "       [ 0,  0, 16,  1,  0,  0,  0,  0,  0,  0,  0,  0,  0,  0,  0,  0],\n",
              "       [ 0,  0,  0, 16,  0,  0,  0,  0,  0,  0,  0,  0,  0,  0,  0,  0],\n",
              "       [ 0,  1,  0,  0, 20,  0,  0,  0,  0,  0,  0,  0,  0,  0,  0,  0],\n",
              "       [ 0,  0,  0,  0,  0, 14,  0,  0,  0,  0,  0,  0,  0,  0,  0,  2],\n",
              "       [ 0,  0,  2,  0,  0,  0,  0,  0,  0,  0,  2,  0,  0,  0,  0,  0],\n",
              "       [ 0,  0,  0,  0,  0,  0,  0, 18,  0,  0,  0,  0,  1,  0,  0,  0],\n",
              "       [ 0,  0,  0,  0,  0,  0,  0,  0, 12,  0,  0,  0,  0,  0,  0,  0],\n",
              "       [ 0,  0,  0,  0,  0,  0,  0,  0,  0, 17,  1,  0,  0,  0,  0,  0],\n",
              "       [ 0,  0,  1,  0,  0,  0,  0,  0,  0,  0, 24,  0,  0,  0,  0,  0],\n",
              "       [ 0,  0,  0,  0,  0,  0,  0,  0,  0,  0,  0, 23,  0,  0,  0,  0],\n",
              "       [ 0,  1,  2,  0,  1,  0,  0,  0,  0,  0,  0,  0,  7,  0,  0,  0],\n",
              "       [ 0,  0,  0,  0,  0,  0,  0,  0,  0,  0,  0,  0,  0, 23,  0,  0],\n",
              "       [ 0,  0,  0,  0,  0,  0,  0,  0,  0,  0,  0,  0,  0,  0, 15,  0],\n",
              "       [ 0,  0,  0,  0,  0,  0,  0,  0,  0,  0,  0,  0,  0,  0,  0, 27]])"
            ]
          },
          "metadata": {},
          "execution_count": 99
        }
      ],
      "source": [
        "confusion_matrix(y_test, model_naive.predict(X_test))"
      ]
    },
    {
      "cell_type": "code",
      "execution_count": 100,
      "id": "8256a851",
      "metadata": {
        "execution": {
          "iopub.execute_input": "2021-11-29T07:50:03.576050Z",
          "iopub.status.busy": "2021-11-29T07:50:03.575333Z",
          "iopub.status.idle": "2021-11-29T07:50:05.105287Z",
          "shell.execute_reply": "2021-11-29T07:50:05.105862Z",
          "shell.execute_reply.started": "2021-11-29T07:37:02.902445Z"
        },
        "papermill": {
          "duration": 1.570715,
          "end_time": "2021-11-29T07:50:05.106055",
          "exception": false,
          "start_time": "2021-11-29T07:50:03.535340",
          "status": "completed"
        },
        "tags": [],
        "colab": {
          "base_uri": "https://localhost:8080/",
          "height": 873
        },
        "id": "8256a851",
        "outputId": "d9785915-0f6f-4e3a-94cd-f95398892eb7"
      },
      "outputs": [
        {
          "output_type": "display_data",
          "data": {
            "text/plain": [
              "<Figure size 1296x864 with 1 Axes>"
            ],
            "image/png": "[encoded data removed]"
          },
          "metadata": {
            "needs_background": "light"
          }
        }
      ],
      "source": [
        "mat = confusion_matrix(y_test, model_naive.predict(X_test))\n",
        "plt.figure(figsize=(18,12))\n",
        "sns.heatmap(mat.T, square=True, annot=True, fmt='d', cbar=False,\n",
        "            xticklabels=categories,\n",
        "            yticklabels=categories\n",
        "           )\n",
        "plt.xlabel('true label')\n",
        "plt.ylabel('predicted label');"
      ]
    },
    {
      "cell_type": "code",
      "source": [],
      "metadata": {
        "id": "z8EGCHr1uPyQ"
      },
      "id": "z8EGCHr1uPyQ",
      "execution_count": 100,
      "outputs": []
    }
  ],
  "metadata": {
    "kernelspec": {
      "display_name": "Python 3",
      "language": "python",
      "name": "python3"
    },
    "language_info": {
      "codemirror_mode": {
        "name": "ipython",
        "version": 3
      },
      "file_extension": ".py",
      "mimetype": "text/x-python",
      "name": "python",
      "nbconvert_exporter": "python",
      "pygments_lexer": "ipython3",
      "version": "3.7.10"
    },
    "papermill": {
      "default_parameters": {},
      "duration": 36.996521,
      "end_time": "2021-11-29T07:50:05.957426",
      "environment_variables": {},
      "exception": null,
      "input_path": "__notebook__.ipynb",
      "output_path": "__notebook__.ipynb",
      "parameters": {},
      "start_time": "2021-11-29T07:49:28.960905",
      "version": "2.3.3"
    },
    "colab": {
      "provenance": [],
      "include_colab_link": true
    }
  },
  "nbformat": 4,
  "nbformat_minor": 5
}